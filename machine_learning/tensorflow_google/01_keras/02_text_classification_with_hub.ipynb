{
 "cells": [
  {
   "cell_type": "code",
   "execution_count": 1,
   "metadata": {},
   "outputs": [],
   "source": [
    "import numpy as np\n",
    "import tensorflow as tf\n",
    "import tensorflow_hub as hub\n",
    "import tensorflow_datasets as tfds"
   ]
  },
  {
   "cell_type": "code",
   "execution_count": 2,
   "metadata": {},
   "outputs": [
    {
     "name": "stdout",
     "output_type": "stream",
     "text": [
      "Tensorflow version: 2.0.0\n",
      "Eager mode: True\n",
      "Hub version: 0.7.0\n",
      "GPU is available\n"
     ]
    }
   ],
   "source": [
    "print(\"Tensorflow version: {}\".format(tf.version.VERSION))\n",
    "print(\"Eager mode: {}\".format(tf.executing_eagerly()))\n",
    "print(\"Hub version: {}\".format(hub.__version__))\n",
    "print(\"GPU is {}\".format(\"available\" if tf.config.experimental.list_physical_devices(\"GPU\") else \"NOT AVAILABLE\"))"
   ]
  },
  {
   "cell_type": "code",
   "execution_count": 3,
   "metadata": {},
   "outputs": [],
   "source": [
    "# 完整的数据按照5:5的比例进行切割得到训练集(train)和测试集(test)\n",
    "# 将训练集按照 6:4 的比例进行切割得到新的训练集(train)和验证集(validation)\n",
    "train_validation_split = tfds.Split.TRAIN.subsplit([6, 4])"
   ]
  },
  {
   "cell_type": "code",
   "execution_count": 4,
   "metadata": {},
   "outputs": [],
   "source": [
    "(train_data, validation_data), test_data = tfds.load(\n",
    "    name='imdb_reviews', # 网络电影数据库(Internet Movie Database)\n",
    "    split=(train_validation_split, tfds.Split.TEST),\n",
    "    as_supervised=True\n",
    ")"
   ]
  },
  {
   "cell_type": "code",
   "execution_count": 5,
   "metadata": {},
   "outputs": [
    {
     "data": {
      "text/plain": [
       "<tf.Tensor: id=220, shape=(10,), dtype=int64, numpy=array([1, 1, 1, 1, 1, 1, 0, 1, 1, 0], dtype=int64)>"
      ]
     },
     "execution_count": 5,
     "metadata": {},
     "output_type": "execute_result"
    }
   ],
   "source": [
    "# 查看数据\n",
    "train_examples_batch, train_labels_batch = next(iter(train_data.batch(10)))\n",
    "train_examples_batch # <shape=(10,), numpy=array(...)>\n",
    "train_labels_batch # <shape=(10,), numpy=array([1, 1, 1,....0])"
   ]
  },
  {
   "cell_type": "code",
   "execution_count": 6,
   "metadata": {},
   "outputs": [],
   "source": [
    "# 构建模型\n",
    "# 迁移学习来处理预处理文本(预训练文本嵌入 text embedding)\n",
    "\n",
    "embedding = \"https://hub.tensorflow.google.cn/google/tf2-preview/gnews-swivel-20dim/1\"\n",
    "hub_layer = hub.KerasLayer(embedding,\n",
    "                          input_shape=[],\n",
    "                          dtype=tf.string,\n",
    "                          trainable=True)"
   ]
  },
  {
   "cell_type": "code",
   "execution_count": 7,
   "metadata": {},
   "outputs": [
    {
     "data": {
      "text/plain": [
       "<tf.Tensor: id=402, shape=(3, 20), dtype=float32, numpy=\n",
       "array([[ 3.9819887 , -4.4838037 ,  5.177359  , -2.3643482 , -3.2938678 ,\n",
       "        -3.5364532 , -2.4786978 ,  2.5525482 ,  6.688532  , -2.3076782 ,\n",
       "        -1.9807833 ,  1.1315885 , -3.0339816 , -0.7604128 , -5.743445  ,\n",
       "         3.4242578 ,  4.790099  , -4.03061   , -5.992149  , -1.7297493 ],\n",
       "       [ 3.4232912 , -4.230874  ,  4.1488533 , -0.29553518, -6.802391  ,\n",
       "        -2.5163853 , -4.4002395 ,  1.905792  ,  4.7512794 , -0.40538004,\n",
       "        -4.3401685 ,  1.0361497 ,  0.9744097 ,  0.71507156, -6.2657013 ,\n",
       "         0.16533905,  4.560262  , -1.3106939 , -3.1121316 , -2.1338716 ],\n",
       "       [ 3.8508697 , -5.003031  ,  4.8700504 , -0.04324996, -5.893603  ,\n",
       "        -5.2983093 , -4.004676  ,  4.1236343 ,  6.267754  ,  0.11632943,\n",
       "        -3.5934832 ,  0.8023905 ,  0.56146765,  0.9192484 , -7.3066816 ,\n",
       "         2.8202746 ,  6.2000837 , -3.5709393 , -4.564525  , -2.305622  ]],\n",
       "      dtype=float32)>"
      ]
     },
     "execution_count": 7,
     "metadata": {},
     "output_type": "execute_result"
    }
   ],
   "source": [
    "hub_layer(train_examples_batch[:3])"
   ]
  },
  {
   "cell_type": "code",
   "execution_count": 8,
   "metadata": {},
   "outputs": [
    {
     "name": "stdout",
     "output_type": "stream",
     "text": [
      "Model: \"sequential\"\n",
      "_________________________________________________________________\n",
      "Layer (type)                 Output Shape              Param #   \n",
      "=================================================================\n",
      "keras_layer (KerasLayer)     (None, 20)                400020    \n",
      "_________________________________________________________________\n",
      "dense (Dense)                (None, 16)                336       \n",
      "_________________________________________________________________\n",
      "dense_1 (Dense)              (None, 1)                 17        \n",
      "=================================================================\n",
      "Total params: 400,373\n",
      "Trainable params: 400,373\n",
      "Non-trainable params: 0\n",
      "_________________________________________________________________\n"
     ]
    }
   ],
   "source": [
    "# 构建完整的模型\n",
    "model = tf.keras.Sequential([\n",
    "    # Tensorflow Hub 层\n",
    "    # 这一层使用一个预训练的保存好的模型来将句子映射为嵌入向量（embedding vector）。\n",
    "    # 我们所使用的预训练文本嵌入（embedding）模型(google/tf2-preview/gnews-swivel-20dim/1)将句子切割为符号，\n",
    "    # 嵌入（embed）每个符号然后进行合并。\n",
    "    # 最终得到的维度是：(num_examples, embedding_dimension)\n",
    "    hub_layer,\n",
    "    tf.keras.layers.Dense(16, activation='relu'),\n",
    "    tf.keras.layers.Dense(1, activation='sigmoid')\n",
    "])\n",
    "model.summary()"
   ]
  },
  {
   "cell_type": "code",
   "execution_count": 9,
   "metadata": {},
   "outputs": [],
   "source": [
    "model.compile(\n",
    "    optimizer='adam',\n",
    "    loss=tf.keras.losses.binary_crossentropy,\n",
    "    metrics=['accuracy']\n",
    ")"
   ]
  },
  {
   "cell_type": "code",
   "execution_count": 10,
   "metadata": {},
   "outputs": [
    {
     "name": "stdout",
     "output_type": "stream",
     "text": [
      "Epoch 1/20\n",
      "30/30 [==============================] - 5s 151ms/step - loss: 1.2437 - accuracy: 0.4683 - val_loss: 0.0000e+00 - val_accuracy: 0.0000e+00\n",
      "Epoch 2/20\n",
      "30/30 [==============================] - 3s 107ms/step - loss: 0.8337 - accuracy: 0.4641 - val_loss: 0.7730 - val_accuracy: 0.4970\n",
      "Epoch 3/20\n",
      "30/30 [==============================] - 3s 108ms/step - loss: 0.7490 - accuracy: 0.5255 - val_loss: 0.7182 - val_accuracy: 0.5473\n",
      "Epoch 4/20\n",
      "30/30 [==============================] - 3s 107ms/step - loss: 0.6978 - accuracy: 0.5796 - val_loss: 0.6785 - val_accuracy: 0.5949\n",
      "Epoch 5/20\n",
      "30/30 [==============================] - 3s 108ms/step - loss: 0.6590 - accuracy: 0.6223 - val_loss: 0.6453 - val_accuracy: 0.6355\n",
      "Epoch 6/20\n",
      "30/30 [==============================] - 3s 107ms/step - loss: 0.6238 - accuracy: 0.6559 - val_loss: 0.6143 - val_accuracy: 0.6677\n",
      "Epoch 7/20\n",
      "30/30 [==============================] - 3s 109ms/step - loss: 0.5885 - accuracy: 0.6891 - val_loss: 0.5831 - val_accuracy: 0.6969\n",
      "Epoch 8/20\n",
      "30/30 [==============================] - 3s 109ms/step - loss: 0.5540 - accuracy: 0.7211 - val_loss: 0.5502 - val_accuracy: 0.7254\n",
      "Epoch 9/20\n",
      "30/30 [==============================] - 3s 107ms/step - loss: 0.5139 - accuracy: 0.7543 - val_loss: 0.5139 - val_accuracy: 0.7515\n",
      "Epoch 10/20\n",
      "30/30 [==============================] - 3s 108ms/step - loss: 0.4736 - accuracy: 0.7851 - val_loss: 0.4767 - val_accuracy: 0.7804\n",
      "Epoch 11/20\n",
      "30/30 [==============================] - 3s 110ms/step - loss: 0.4325 - accuracy: 0.8123 - val_loss: 0.4423 - val_accuracy: 0.8010\n",
      "Epoch 12/20\n",
      "30/30 [==============================] - 3s 108ms/step - loss: 0.3957 - accuracy: 0.8380 - val_loss: 0.4122 - val_accuracy: 0.8187\n",
      "Epoch 13/20\n",
      "30/30 [==============================] - 3s 109ms/step - loss: 0.3613 - accuracy: 0.8555 - val_loss: 0.3893 - val_accuracy: 0.8309\n",
      "Epoch 14/20\n",
      "30/30 [==============================] - 3s 108ms/step - loss: 0.3338 - accuracy: 0.8693 - val_loss: 0.3685 - val_accuracy: 0.8430\n",
      "Epoch 15/20\n",
      "30/30 [==============================] - 3s 109ms/step - loss: 0.3073 - accuracy: 0.8819 - val_loss: 0.3522 - val_accuracy: 0.8527\n",
      "Epoch 16/20\n",
      "30/30 [==============================] - 3s 108ms/step - loss: 0.2827 - accuracy: 0.8915 - val_loss: 0.3397 - val_accuracy: 0.8582\n",
      "Epoch 17/20\n",
      "30/30 [==============================] - 3s 107ms/step - loss: 0.2665 - accuracy: 0.8995 - val_loss: 0.3290 - val_accuracy: 0.8624\n",
      "Epoch 18/20\n",
      "30/30 [==============================] - 3s 110ms/step - loss: 0.2471 - accuracy: 0.9077 - val_loss: 0.3213 - val_accuracy: 0.8658\n",
      "Epoch 19/20\n",
      "30/30 [==============================] - 3s 109ms/step - loss: 0.2342 - accuracy: 0.9155 - val_loss: 0.3149 - val_accuracy: 0.8693\n",
      "Epoch 20/20\n",
      "30/30 [==============================] - 3s 109ms/step - loss: 0.2221 - accuracy: 0.9216 - val_loss: 0.3095 - val_accuracy: 0.8690\n"
     ]
    }
   ],
   "source": [
    "# 训练模型\n",
    "# 以 512 个样本的 mini-batch 大小迭代 20 个 epoch 来训练模型。\n",
    "# 这是指对 x_train 和 y_train 张量中所有样本的的 20 次迭代。\n",
    "# 在训练过程中，监测来自验证集的 10,000 个样本上的损失值（loss）和准确率（accuracy）\n",
    "history = model.fit(\n",
    "    train_data.shuffle(10000).batch(512),\n",
    "    epochs=20,\n",
    "    validation_data=validation_data.batch(512),\n",
    "    verbose=1\n",
    ")"
   ]
  },
  {
   "cell_type": "code",
   "execution_count": 12,
   "metadata": {},
   "outputs": [
    {
     "name": "stdout",
     "output_type": "stream",
     "text": [
      "49/49 - 2s - loss: 0.3297 - accuracy: 0.8566\n"
     ]
    }
   ],
   "source": [
    "# 评估模型\n",
    "results = model.evaluate(test_data.batch(512), verbose=2)"
   ]
  },
  {
   "cell_type": "code",
   "execution_count": 13,
   "metadata": {},
   "outputs": [
    {
     "name": "stdout",
     "output_type": "stream",
     "text": [
      "loss: 0.330\n",
      "accuracy: 0.857\n"
     ]
    }
   ],
   "source": [
    "for name, value in zip(model.metrics_names, results):\n",
    "  print(\"%s: %.3f\" % (name, value))"
   ]
  },
  {
   "cell_type": "code",
   "execution_count": null,
   "metadata": {},
   "outputs": [],
   "source": []
  }
 ],
 "metadata": {
  "kernelspec": {
   "display_name": "Python 3",
   "language": "python",
   "name": "python3"
  },
  "language_info": {
   "codemirror_mode": {
    "name": "ipython",
    "version": 3
   },
   "file_extension": ".py",
   "mimetype": "text/x-python",
   "name": "python",
   "nbconvert_exporter": "python",
   "pygments_lexer": "ipython3",
   "version": "3.7.3"
  }
 },
 "nbformat": 4,
 "nbformat_minor": 2
}
