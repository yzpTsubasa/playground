{
 "cells": [
  {
   "cell_type": "code",
   "execution_count": 1,
   "metadata": {},
   "outputs": [],
   "source": [
    "import tensorflow as tf\n",
    "import pandas as pd\n",
    "import numpy as np\n",
    "import matplotlib.pyplot as plt\n",
    "%matplotlib inline"
   ]
  },
  {
   "cell_type": "code",
   "execution_count": 2,
   "metadata": {},
   "outputs": [
    {
     "data": {
      "text/html": [
       "<div>\n",
       "<style scoped>\n",
       "    .dataframe tbody tr th:only-of-type {\n",
       "        vertical-align: middle;\n",
       "    }\n",
       "\n",
       "    .dataframe tbody tr th {\n",
       "        vertical-align: top;\n",
       "    }\n",
       "\n",
       "    .dataframe thead th {\n",
       "        text-align: right;\n",
       "    }\n",
       "</style>\n",
       "<table border=\"1\" class=\"dataframe\">\n",
       "  <thead>\n",
       "    <tr style=\"text-align: right;\">\n",
       "      <th></th>\n",
       "      <th>0</th>\n",
       "      <th>1</th>\n",
       "      <th>2</th>\n",
       "      <th>3</th>\n",
       "      <th>4</th>\n",
       "      <th>5</th>\n",
       "      <th>6</th>\n",
       "      <th>7</th>\n",
       "      <th>8</th>\n",
       "      <th>9</th>\n",
       "      <th>10</th>\n",
       "      <th>11</th>\n",
       "      <th>12</th>\n",
       "      <th>13</th>\n",
       "      <th>14</th>\n",
       "      <th>15</th>\n",
       "    </tr>\n",
       "  </thead>\n",
       "  <tbody>\n",
       "    <tr>\n",
       "      <th>0</th>\n",
       "      <td>0</td>\n",
       "      <td>30.83</td>\n",
       "      <td>0.000</td>\n",
       "      <td>0</td>\n",
       "      <td>0</td>\n",
       "      <td>9</td>\n",
       "      <td>0</td>\n",
       "      <td>1.25</td>\n",
       "      <td>0</td>\n",
       "      <td>0</td>\n",
       "      <td>1</td>\n",
       "      <td>1</td>\n",
       "      <td>0</td>\n",
       "      <td>202</td>\n",
       "      <td>0.0</td>\n",
       "      <td>-1</td>\n",
       "    </tr>\n",
       "    <tr>\n",
       "      <th>1</th>\n",
       "      <td>1</td>\n",
       "      <td>58.67</td>\n",
       "      <td>4.460</td>\n",
       "      <td>0</td>\n",
       "      <td>0</td>\n",
       "      <td>8</td>\n",
       "      <td>1</td>\n",
       "      <td>3.04</td>\n",
       "      <td>0</td>\n",
       "      <td>0</td>\n",
       "      <td>6</td>\n",
       "      <td>1</td>\n",
       "      <td>0</td>\n",
       "      <td>43</td>\n",
       "      <td>560.0</td>\n",
       "      <td>-1</td>\n",
       "    </tr>\n",
       "    <tr>\n",
       "      <th>2</th>\n",
       "      <td>1</td>\n",
       "      <td>24.50</td>\n",
       "      <td>0.500</td>\n",
       "      <td>0</td>\n",
       "      <td>0</td>\n",
       "      <td>8</td>\n",
       "      <td>1</td>\n",
       "      <td>1.50</td>\n",
       "      <td>0</td>\n",
       "      <td>1</td>\n",
       "      <td>0</td>\n",
       "      <td>1</td>\n",
       "      <td>0</td>\n",
       "      <td>280</td>\n",
       "      <td>824.0</td>\n",
       "      <td>-1</td>\n",
       "    </tr>\n",
       "    <tr>\n",
       "      <th>3</th>\n",
       "      <td>0</td>\n",
       "      <td>27.83</td>\n",
       "      <td>1.540</td>\n",
       "      <td>0</td>\n",
       "      <td>0</td>\n",
       "      <td>9</td>\n",
       "      <td>0</td>\n",
       "      <td>3.75</td>\n",
       "      <td>0</td>\n",
       "      <td>0</td>\n",
       "      <td>5</td>\n",
       "      <td>0</td>\n",
       "      <td>0</td>\n",
       "      <td>100</td>\n",
       "      <td>3.0</td>\n",
       "      <td>-1</td>\n",
       "    </tr>\n",
       "    <tr>\n",
       "      <th>4</th>\n",
       "      <td>0</td>\n",
       "      <td>20.17</td>\n",
       "      <td>5.625</td>\n",
       "      <td>0</td>\n",
       "      <td>0</td>\n",
       "      <td>9</td>\n",
       "      <td>0</td>\n",
       "      <td>1.71</td>\n",
       "      <td>0</td>\n",
       "      <td>1</td>\n",
       "      <td>0</td>\n",
       "      <td>1</td>\n",
       "      <td>2</td>\n",
       "      <td>120</td>\n",
       "      <td>0.0</td>\n",
       "      <td>-1</td>\n",
       "    </tr>\n",
       "  </tbody>\n",
       "</table>\n",
       "</div>"
      ],
      "text/plain": [
       "   0      1      2   3   4   5   6     7   8   9   10  11  12   13     14  15\n",
       "0   0  30.83  0.000   0   0   9   0  1.25   0   0   1   1   0  202    0.0  -1\n",
       "1   1  58.67  4.460   0   0   8   1  3.04   0   0   6   1   0   43  560.0  -1\n",
       "2   1  24.50  0.500   0   0   8   1  1.50   0   1   0   1   0  280  824.0  -1\n",
       "3   0  27.83  1.540   0   0   9   0  3.75   0   0   5   0   0  100    3.0  -1\n",
       "4   0  20.17  5.625   0   0   9   0  1.71   0   1   0   1   2  120    0.0  -1"
      ]
     },
     "execution_count": 2,
     "metadata": {},
     "output_type": "execute_result"
    }
   ],
   "source": [
    "data = pd.read_csv('./dataset/credit-a.csv', header=None)\n",
    "data.head()"
   ]
  },
  {
   "cell_type": "code",
   "execution_count": 3,
   "metadata": {},
   "outputs": [],
   "source": [
    "x = data.iloc[:,:-1]\n",
    "# 把-1改成0\n",
    "y = data.iloc[:,-1].replace(-1, 0)"
   ]
  },
  {
   "cell_type": "code",
   "execution_count": 4,
   "metadata": {
    "scrolled": true
   },
   "outputs": [
    {
     "data": {
      "text/plain": [
       "1    357\n",
       "0    296\n",
       "Name: 15, dtype: int64"
      ]
     },
     "execution_count": 4,
     "metadata": {},
     "output_type": "execute_result"
    }
   ],
   "source": [
    "y.value_counts()"
   ]
  },
  {
   "cell_type": "code",
   "execution_count": 5,
   "metadata": {},
   "outputs": [],
   "source": [
    "# 创建顺序模型\n",
    "# model = tf.keras.Sequential([\n",
    "#     # 第1个隐藏层\n",
    "#     tf.keras.layers.Dense(4, input_shape=(15,), activation=\"relu\"),\n",
    "#     # 第2个隐藏层\n",
    "#     tf.keras.layers.Dense(4, activation=\"relu\"),\n",
    "#     # 输出层 激活函数改用 sigmoid ???\n",
    "#     tf.keras.layers.Dense(1, activation='sigmoid')\n",
    "# ])\n",
    "model = tf.keras.Sequential()\n",
    "model.add(tf.keras.layers.Dense(4, input_shape=(15,), activation=\"relu\"))\n",
    "model.add(tf.keras.layers.Dense(4, activation=\"relu\"))\n",
    "# 输出层 激活函数改用 sigmoid ???\n",
    "model.add(tf.keras.layers.Dense(1, activation='sigmoid'))"
   ]
  },
  {
   "cell_type": "code",
   "execution_count": 6,
   "metadata": {},
   "outputs": [
    {
     "name": "stdout",
     "output_type": "stream",
     "text": [
      "Model: \"sequential\"\n",
      "_________________________________________________________________\n",
      "Layer (type)                 Output Shape              Param #   \n",
      "=================================================================\n",
      "dense (Dense)                (None, 4)                 64        \n",
      "_________________________________________________________________\n",
      "dense_1 (Dense)              (None, 4)                 20        \n",
      "_________________________________________________________________\n",
      "dense_2 (Dense)              (None, 1)                 5         \n",
      "=================================================================\n",
      "Total params: 89\n",
      "Trainable params: 89\n",
      "Non-trainable params: 0\n",
      "_________________________________________________________________\n"
     ]
    }
   ],
   "source": [
    "model.summary()"
   ]
  },
  {
   "cell_type": "code",
   "execution_count": 7,
   "metadata": {},
   "outputs": [],
   "source": [
    "model.compile(\n",
    "    optimizer=\"adam\",\n",
    "    # 二元交叉熵\n",
    "    loss=\"binary_crossentropy\",\n",
    "    # 记录训练过程中的相关值，如准确率，损失值\n",
    "    metrics=['acc']\n",
    ")"
   ]
  },
  {
   "cell_type": "code",
   "execution_count": 8,
   "metadata": {},
   "outputs": [
    {
     "name": "stdout",
     "output_type": "stream",
     "text": [
      "WARNING:tensorflow:Falling back from v2 loop because of error: Failed to find data adapter that can handle input: <class 'pandas.core.frame.DataFrame'>, <class 'NoneType'>\n",
      "Train on 653 samples\n",
      "Epoch 1/100\n",
      "653/653 [==============================] - 0s 106us/sample - loss: 3.5901 - acc: 0.6753\n",
      "Epoch 2/100\n",
      "653/653 [==============================] - 0s 24us/sample - loss: 3.3646 - acc: 0.6753\n",
      "Epoch 3/100\n",
      "653/653 [==============================] - 0s 21us/sample - loss: 3.1013 - acc: 0.6784\n",
      "Epoch 4/100\n",
      "653/653 [==============================] - 0s 21us/sample - loss: 2.7549 - acc: 0.6799\n",
      "Epoch 5/100\n",
      "653/653 [==============================] - 0s 23us/sample - loss: 2.4024 - acc: 0.6815\n",
      "Epoch 6/100\n",
      "653/653 [==============================] - 0s 23us/sample - loss: 2.0868 - acc: 0.6799\n",
      "Epoch 7/100\n",
      "653/653 [==============================] - 0s 23us/sample - loss: 1.5639 - acc: 0.6784\n",
      "Epoch 8/100\n",
      "653/653 [==============================] - 0s 24us/sample - loss: 0.9100 - acc: 0.6692\n",
      "Epoch 9/100\n",
      "653/653 [==============================] - 0s 23us/sample - loss: 0.6705 - acc: 0.6907\n",
      "Epoch 10/100\n",
      "653/653 [==============================] - 0s 21us/sample - loss: 0.6585 - acc: 0.6983\n",
      "Epoch 11/100\n",
      "653/653 [==============================] - 0s 23us/sample - loss: 0.6558 - acc: 0.6983\n",
      "Epoch 12/100\n",
      "653/653 [==============================] - 0s 23us/sample - loss: 0.6559 - acc: 0.6907\n",
      "Epoch 13/100\n",
      "653/653 [==============================] - 0s 24us/sample - loss: 0.6563 - acc: 0.6937\n",
      "Epoch 14/100\n",
      "653/653 [==============================] - 0s 23us/sample - loss: 0.6547 - acc: 0.6953\n",
      "Epoch 15/100\n",
      "653/653 [==============================] - 0s 24us/sample - loss: 0.6566 - acc: 0.6937\n",
      "Epoch 16/100\n",
      "653/653 [==============================] - 0s 24us/sample - loss: 0.6574 - acc: 0.6953\n",
      "Epoch 17/100\n",
      "653/653 [==============================] - 0s 37us/sample - loss: 0.6561 - acc: 0.6983\n",
      "Epoch 18/100\n",
      "653/653 [==============================] - 0s 24us/sample - loss: 0.6501 - acc: 0.7029\n",
      "Epoch 19/100\n",
      "653/653 [==============================] - 0s 21us/sample - loss: 0.6516 - acc: 0.6953\n",
      "Epoch 20/100\n",
      "653/653 [==============================] - 0s 23us/sample - loss: 0.6504 - acc: 0.6983\n",
      "Epoch 21/100\n",
      "653/653 [==============================] - 0s 23us/sample - loss: 0.6500 - acc: 0.6983\n",
      "Epoch 22/100\n",
      "653/653 [==============================] - 0s 23us/sample - loss: 0.6487 - acc: 0.7044\n",
      "Epoch 23/100\n",
      "653/653 [==============================] - 0s 24us/sample - loss: 0.6480 - acc: 0.6968\n",
      "Epoch 24/100\n",
      "653/653 [==============================] - 0s 25us/sample - loss: 0.6491 - acc: 0.6983\n",
      "Epoch 25/100\n",
      "653/653 [==============================] - 0s 21us/sample - loss: 0.6476 - acc: 0.6998\n",
      "Epoch 26/100\n",
      "653/653 [==============================] - 0s 23us/sample - loss: 0.6463 - acc: 0.6968\n",
      "Epoch 27/100\n",
      "653/653 [==============================] - 0s 24us/sample - loss: 0.6466 - acc: 0.6968\n",
      "Epoch 28/100\n",
      "653/653 [==============================] - 0s 24us/sample - loss: 0.6460 - acc: 0.6998\n",
      "Epoch 29/100\n",
      "653/653 [==============================] - 0s 23us/sample - loss: 0.6458 - acc: 0.6983\n",
      "Epoch 30/100\n",
      "653/653 [==============================] - 0s 23us/sample - loss: 0.6442 - acc: 0.7044\n",
      "Epoch 31/100\n",
      "653/653 [==============================] - 0s 21us/sample - loss: 0.6439 - acc: 0.6968\n",
      "Epoch 32/100\n",
      "653/653 [==============================] - 0s 23us/sample - loss: 0.6453 - acc: 0.7060\n",
      "Epoch 33/100\n",
      "653/653 [==============================] - 0s 23us/sample - loss: 0.6428 - acc: 0.6983\n",
      "Epoch 34/100\n",
      "653/653 [==============================] - 0s 23us/sample - loss: 0.6434 - acc: 0.6983\n",
      "Epoch 35/100\n",
      "653/653 [==============================] - 0s 21us/sample - loss: 0.6439 - acc: 0.7014\n",
      "Epoch 36/100\n",
      "653/653 [==============================] - 0s 26us/sample - loss: 0.6406 - acc: 0.6998\n",
      "Epoch 37/100\n",
      "653/653 [==============================] - 0s 23us/sample - loss: 0.6389 - acc: 0.6983\n",
      "Epoch 38/100\n",
      "653/653 [==============================] - 0s 21us/sample - loss: 0.6407 - acc: 0.6983\n",
      "Epoch 39/100\n",
      "653/653 [==============================] - 0s 23us/sample - loss: 0.6385 - acc: 0.6998\n",
      "Epoch 40/100\n",
      "653/653 [==============================] - 0s 23us/sample - loss: 0.6379 - acc: 0.7014\n",
      "Epoch 41/100\n",
      "653/653 [==============================] - 0s 23us/sample - loss: 0.6392 - acc: 0.6998\n",
      "Epoch 42/100\n",
      "653/653 [==============================] - 0s 21us/sample - loss: 0.6363 - acc: 0.6998\n",
      "Epoch 43/100\n",
      "653/653 [==============================] - 0s 23us/sample - loss: 0.6355 - acc: 0.6998\n",
      "Epoch 44/100\n",
      "653/653 [==============================] - 0s 23us/sample - loss: 0.6380 - acc: 0.6998\n",
      "Epoch 45/100\n",
      "653/653 [==============================] - 0s 23us/sample - loss: 0.6340 - acc: 0.7014\n",
      "Epoch 46/100\n",
      "653/653 [==============================] - 0s 23us/sample - loss: 0.6349 - acc: 0.7029\n",
      "Epoch 47/100\n",
      "653/653 [==============================] - 0s 23us/sample - loss: 0.6325 - acc: 0.6998\n",
      "Epoch 48/100\n",
      "653/653 [==============================] - 0s 23us/sample - loss: 0.6325 - acc: 0.6998\n",
      "Epoch 49/100\n",
      "653/653 [==============================] - 0s 23us/sample - loss: 0.6315 - acc: 0.7044\n",
      "Epoch 50/100\n",
      "653/653 [==============================] - 0s 23us/sample - loss: 0.6316 - acc: 0.7014\n",
      "Epoch 51/100\n",
      "653/653 [==============================] - 0s 23us/sample - loss: 0.6340 - acc: 0.7029\n",
      "Epoch 52/100\n",
      "653/653 [==============================] - 0s 23us/sample - loss: 0.6321 - acc: 0.6998\n",
      "Epoch 53/100\n",
      "653/653 [==============================] - 0s 21us/sample - loss: 0.6278 - acc: 0.6998\n",
      "Epoch 54/100\n",
      "653/653 [==============================] - 0s 23us/sample - loss: 0.6274 - acc: 0.7029\n",
      "Epoch 55/100\n",
      "653/653 [==============================] - 0s 23us/sample - loss: 0.6266 - acc: 0.7029\n",
      "Epoch 56/100\n",
      "653/653 [==============================] - 0s 23us/sample - loss: 0.6250 - acc: 0.7014\n",
      "Epoch 57/100\n",
      "653/653 [==============================] - 0s 23us/sample - loss: 0.6242 - acc: 0.7029\n",
      "Epoch 58/100\n",
      "653/653 [==============================] - 0s 26us/sample - loss: 0.6234 - acc: 0.7044\n",
      "Epoch 59/100\n",
      "653/653 [==============================] - 0s 23us/sample - loss: 0.6229 - acc: 0.7029\n",
      "Epoch 60/100\n",
      "653/653 [==============================] - 0s 23us/sample - loss: 0.6219 - acc: 0.7106\n",
      "Epoch 61/100\n",
      "653/653 [==============================] - 0s 21us/sample - loss: 0.6199 - acc: 0.7106\n",
      "Epoch 62/100\n",
      "653/653 [==============================] - 0s 24us/sample - loss: 0.6192 - acc: 0.7106\n",
      "Epoch 63/100\n",
      "653/653 [==============================] - 0s 26us/sample - loss: 0.6180 - acc: 0.7152\n",
      "Epoch 64/100\n",
      "653/653 [==============================] - 0s 28us/sample - loss: 0.6162 - acc: 0.7167\n",
      "Epoch 65/100\n",
      "653/653 [==============================] - 0s 23us/sample - loss: 0.6151 - acc: 0.7136\n",
      "Epoch 66/100\n",
      "653/653 [==============================] - 0s 23us/sample - loss: 0.6138 - acc: 0.7182\n",
      "Epoch 67/100\n",
      "653/653 [==============================] - 0s 24us/sample - loss: 0.6129 - acc: 0.7152\n",
      "Epoch 68/100\n",
      "653/653 [==============================] - 0s 23us/sample - loss: 0.6115 - acc: 0.7152\n",
      "Epoch 69/100\n",
      "653/653 [==============================] - 0s 24us/sample - loss: 0.6102 - acc: 0.7152\n",
      "Epoch 70/100\n",
      "653/653 [==============================] - 0s 23us/sample - loss: 0.6082 - acc: 0.7136\n",
      "Epoch 71/100\n",
      "653/653 [==============================] - 0s 23us/sample - loss: 0.6071 - acc: 0.7152\n",
      "Epoch 72/100\n",
      "653/653 [==============================] - 0s 23us/sample - loss: 0.6053 - acc: 0.7136\n",
      "Epoch 73/100\n",
      "653/653 [==============================] - 0s 24us/sample - loss: 0.6041 - acc: 0.7136\n",
      "Epoch 74/100\n",
      "653/653 [==============================] - 0s 26us/sample - loss: 0.6031 - acc: 0.7182\n",
      "Epoch 75/100\n",
      "653/653 [==============================] - 0s 24us/sample - loss: 0.6013 - acc: 0.7136\n",
      "Epoch 76/100\n",
      "653/653 [==============================] - 0s 24us/sample - loss: 0.5999 - acc: 0.7121\n",
      "Epoch 77/100\n",
      "653/653 [==============================] - 0s 23us/sample - loss: 0.5993 - acc: 0.7121\n",
      "Epoch 78/100\n",
      "653/653 [==============================] - 0s 24us/sample - loss: 0.5972 - acc: 0.7228\n",
      "Epoch 79/100\n",
      "653/653 [==============================] - 0s 24us/sample - loss: 0.5952 - acc: 0.7152\n",
      "Epoch 80/100\n",
      "653/653 [==============================] - 0s 24us/sample - loss: 0.5938 - acc: 0.7136\n",
      "Epoch 81/100\n"
     ]
    },
    {
     "name": "stdout",
     "output_type": "stream",
     "text": [
      "653/653 [==============================] - 0s 24us/sample - loss: 0.5919 - acc: 0.7182\n",
      "Epoch 82/100\n",
      "653/653 [==============================] - 0s 21us/sample - loss: 0.5911 - acc: 0.7289\n",
      "Epoch 83/100\n",
      "653/653 [==============================] - 0s 24us/sample - loss: 0.5898 - acc: 0.7228\n",
      "Epoch 84/100\n",
      "653/653 [==============================] - 0s 24us/sample - loss: 0.5880 - acc: 0.7274\n",
      "Epoch 85/100\n",
      "653/653 [==============================] - 0s 24us/sample - loss: 0.5878 - acc: 0.7167\n",
      "Epoch 86/100\n",
      "653/653 [==============================] - 0s 23us/sample - loss: 0.5839 - acc: 0.7243\n",
      "Epoch 87/100\n",
      "653/653 [==============================] - 0s 24us/sample - loss: 0.5830 - acc: 0.7305\n",
      "Epoch 88/100\n",
      "653/653 [==============================] - 0s 23us/sample - loss: 0.5815 - acc: 0.7335\n",
      "Epoch 89/100\n",
      "653/653 [==============================] - 0s 24us/sample - loss: 0.5817 - acc: 0.7274\n",
      "Epoch 90/100\n",
      "653/653 [==============================] - 0s 24us/sample - loss: 0.5793 - acc: 0.7335\n",
      "Epoch 91/100\n",
      "653/653 [==============================] - 0s 23us/sample - loss: 0.5786 - acc: 0.7320\n",
      "Epoch 92/100\n",
      "653/653 [==============================] - 0s 23us/sample - loss: 0.5764 - acc: 0.7320\n",
      "Epoch 93/100\n",
      "653/653 [==============================] - 0s 26us/sample - loss: 0.5753 - acc: 0.7320\n",
      "Epoch 94/100\n",
      "653/653 [==============================] - 0s 24us/sample - loss: 0.5741 - acc: 0.7335\n",
      "Epoch 95/100\n",
      "653/653 [==============================] - 0s 24us/sample - loss: 0.5725 - acc: 0.7335\n",
      "Epoch 96/100\n",
      "653/653 [==============================] - 0s 26us/sample - loss: 0.5717 - acc: 0.7320\n",
      "Epoch 97/100\n",
      "653/653 [==============================] - 0s 26us/sample - loss: 0.5701 - acc: 0.7351\n",
      "Epoch 98/100\n",
      "653/653 [==============================] - 0s 23us/sample - loss: 0.5706 - acc: 0.7320\n",
      "Epoch 99/100\n",
      "653/653 [==============================] - 0s 24us/sample - loss: 0.5675 - acc: 0.7335\n",
      "Epoch 100/100\n",
      "653/653 [==============================] - 0s 23us/sample - loss: 0.5846 - acc: 0.7412\n"
     ]
    }
   ],
   "source": [
    "history = model.fit(x, y, epochs=100)"
   ]
  },
  {
   "cell_type": "code",
   "execution_count": 9,
   "metadata": {},
   "outputs": [
    {
     "data": {
      "text/plain": [
       "dict_keys(['loss', 'acc'])"
      ]
     },
     "execution_count": 9,
     "metadata": {},
     "output_type": "execute_result"
    }
   ],
   "source": [
    "history.history.keys()"
   ]
  },
  {
   "cell_type": "code",
   "execution_count": 10,
   "metadata": {},
   "outputs": [
    {
     "data": {
      "text/plain": [
       "[<matplotlib.lines.Line2D at 0x21eb08e0320>]"
      ]
     },
     "execution_count": 10,
     "metadata": {},
     "output_type": "execute_result"
    },
    {
     "data": {
      "image/png": "[encoded data removed]",
      "text/plain": [
       "<Figure size 432x288 with 1 Axes>"
      ]
     },
     "metadata": {
      "needs_background": "light"
     },
     "output_type": "display_data"
    }
   ],
   "source": [
    "plt.plot(history.epoch, history.history.get('loss'))"
   ]
  },
  {
   "cell_type": "code",
   "execution_count": 11,
   "metadata": {},
   "outputs": [
    {
     "data": {
      "text/plain": [
       "[<matplotlib.lines.Line2D at 0x21eb3b91a58>]"
      ]
     },
     "execution_count": 11,
     "metadata": {},
     "output_type": "execute_result"
    },
    {
     "data": {
      "image/png": "[encoded data removed]",
      "text/plain": [
       "<Figure size 432x288 with 1 Axes>"
      ]
     },
     "metadata": {
      "needs_background": "light"
     },
     "output_type": "display_data"
    }
   ],
   "source": [
    "plt.plot(history.epoch, history.history.get('acc'))"
   ]
  },
  {
   "cell_type": "code",
   "execution_count": 12,
   "metadata": {},
   "outputs": [
    {
     "name": "stdout",
     "output_type": "stream",
     "text": [
      "WARNING:tensorflow:Falling back from v2 loop because of error: Failed to find data adapter that can handle input: <class 'pandas.core.frame.DataFrame'>, <class 'NoneType'>\n",
      "653/653 [==============================] - 0s 35us/sample - loss: 0.5646 - acc: 0.7397\n"
     ]
    },
    {
     "data": {
      "text/plain": [
       "[0.5645562855792082, 0.73966306]"
      ]
     },
     "execution_count": 12,
     "metadata": {},
     "output_type": "execute_result"
    }
   ],
   "source": [
    "model.evaluate(x, y)"
   ]
  },
  {
   "cell_type": "code",
   "execution_count": null,
   "metadata": {},
   "outputs": [],
   "source": []
  }
 ],
 "metadata": {
  "kernelspec": {
   "display_name": "Python 3",
   "language": "python",
   "name": "python3"
  },
  "language_info": {
   "codemirror_mode": {
    "name": "ipython",
    "version": 3
   },
   "file_extension": ".py",
   "mimetype": "text/x-python",
   "name": "python",
   "nbconvert_exporter": "python",
   "pygments_lexer": "ipython3",
   "version": "3.7.3"
  }
 },
 "nbformat": 4,
 "nbformat_minor": 2
}
