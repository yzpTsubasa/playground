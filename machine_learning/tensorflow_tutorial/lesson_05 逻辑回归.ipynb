{
 "cells": [
  {
   "cell_type": "code",
   "execution_count": 1,
   "metadata": {},
   "outputs": [],
   "source": [
    "import tensorflow as tf\n",
    "import pandas as pd\n",
    "import numpy as np\n",
    "import matplotlib.pyplot as plt\n",
    "%matplotlib inline"
   ]
  },
  {
   "cell_type": "code",
   "execution_count": 2,
   "metadata": {},
   "outputs": [
    {
     "data": {
      "text/html": [
       "<div>\n",
       "<style scoped>\n",
       "    .dataframe tbody tr th:only-of-type {\n",
       "        vertical-align: middle;\n",
       "    }\n",
       "\n",
       "    .dataframe tbody tr th {\n",
       "        vertical-align: top;\n",
       "    }\n",
       "\n",
       "    .dataframe thead th {\n",
       "        text-align: right;\n",
       "    }\n",
       "</style>\n",
       "<table border=\"1\" class=\"dataframe\">\n",
       "  <thead>\n",
       "    <tr style=\"text-align: right;\">\n",
       "      <th></th>\n",
       "      <th>0</th>\n",
       "      <th>1</th>\n",
       "      <th>2</th>\n",
       "      <th>3</th>\n",
       "      <th>4</th>\n",
       "      <th>5</th>\n",
       "      <th>6</th>\n",
       "      <th>7</th>\n",
       "      <th>8</th>\n",
       "      <th>9</th>\n",
       "      <th>10</th>\n",
       "      <th>11</th>\n",
       "      <th>12</th>\n",
       "      <th>13</th>\n",
       "      <th>14</th>\n",
       "      <th>15</th>\n",
       "    </tr>\n",
       "  </thead>\n",
       "  <tbody>\n",
       "    <tr>\n",
       "      <th>0</th>\n",
       "      <td>0</td>\n",
       "      <td>30.83</td>\n",
       "      <td>0.000</td>\n",
       "      <td>0</td>\n",
       "      <td>0</td>\n",
       "      <td>9</td>\n",
       "      <td>0</td>\n",
       "      <td>1.25</td>\n",
       "      <td>0</td>\n",
       "      <td>0</td>\n",
       "      <td>1</td>\n",
       "      <td>1</td>\n",
       "      <td>0</td>\n",
       "      <td>202</td>\n",
       "      <td>0.0</td>\n",
       "      <td>-1</td>\n",
       "    </tr>\n",
       "    <tr>\n",
       "      <th>1</th>\n",
       "      <td>1</td>\n",
       "      <td>58.67</td>\n",
       "      <td>4.460</td>\n",
       "      <td>0</td>\n",
       "      <td>0</td>\n",
       "      <td>8</td>\n",
       "      <td>1</td>\n",
       "      <td>3.04</td>\n",
       "      <td>0</td>\n",
       "      <td>0</td>\n",
       "      <td>6</td>\n",
       "      <td>1</td>\n",
       "      <td>0</td>\n",
       "      <td>43</td>\n",
       "      <td>560.0</td>\n",
       "      <td>-1</td>\n",
       "    </tr>\n",
       "    <tr>\n",
       "      <th>2</th>\n",
       "      <td>1</td>\n",
       "      <td>24.50</td>\n",
       "      <td>0.500</td>\n",
       "      <td>0</td>\n",
       "      <td>0</td>\n",
       "      <td>8</td>\n",
       "      <td>1</td>\n",
       "      <td>1.50</td>\n",
       "      <td>0</td>\n",
       "      <td>1</td>\n",
       "      <td>0</td>\n",
       "      <td>1</td>\n",
       "      <td>0</td>\n",
       "      <td>280</td>\n",
       "      <td>824.0</td>\n",
       "      <td>-1</td>\n",
       "    </tr>\n",
       "    <tr>\n",
       "      <th>3</th>\n",
       "      <td>0</td>\n",
       "      <td>27.83</td>\n",
       "      <td>1.540</td>\n",
       "      <td>0</td>\n",
       "      <td>0</td>\n",
       "      <td>9</td>\n",
       "      <td>0</td>\n",
       "      <td>3.75</td>\n",
       "      <td>0</td>\n",
       "      <td>0</td>\n",
       "      <td>5</td>\n",
       "      <td>0</td>\n",
       "      <td>0</td>\n",
       "      <td>100</td>\n",
       "      <td>3.0</td>\n",
       "      <td>-1</td>\n",
       "    </tr>\n",
       "    <tr>\n",
       "      <th>4</th>\n",
       "      <td>0</td>\n",
       "      <td>20.17</td>\n",
       "      <td>5.625</td>\n",
       "      <td>0</td>\n",
       "      <td>0</td>\n",
       "      <td>9</td>\n",
       "      <td>0</td>\n",
       "      <td>1.71</td>\n",
       "      <td>0</td>\n",
       "      <td>1</td>\n",
       "      <td>0</td>\n",
       "      <td>1</td>\n",
       "      <td>2</td>\n",
       "      <td>120</td>\n",
       "      <td>0.0</td>\n",
       "      <td>-1</td>\n",
       "    </tr>\n",
       "  </tbody>\n",
       "</table>\n",
       "</div>"
      ],
      "text/plain": [
       "   0      1      2   3   4   5   6     7   8   9   10  11  12   13     14  15\n",
       "0   0  30.83  0.000   0   0   9   0  1.25   0   0   1   1   0  202    0.0  -1\n",
       "1   1  58.67  4.460   0   0   8   1  3.04   0   0   6   1   0   43  560.0  -1\n",
       "2   1  24.50  0.500   0   0   8   1  1.50   0   1   0   1   0  280  824.0  -1\n",
       "3   0  27.83  1.540   0   0   9   0  3.75   0   0   5   0   0  100    3.0  -1\n",
       "4   0  20.17  5.625   0   0   9   0  1.71   0   1   0   1   2  120    0.0  -1"
      ]
     },
     "execution_count": 2,
     "metadata": {},
     "output_type": "execute_result"
    }
   ],
   "source": [
    "data = pd.read_csv('./dataset/credit-a.csv', header=None)\n",
    "data.head()"
   ]
  },
  {
   "cell_type": "code",
   "execution_count": 14,
   "metadata": {},
   "outputs": [],
   "source": [
    "x = data.iloc[:,:-1]\n",
    "# 把-1改成0\n",
    "y = data.iloc[:,-1].replace(-1, 0)"
   ]
  },
  {
   "cell_type": "code",
   "execution_count": 15,
   "metadata": {
    "scrolled": true
   },
   "outputs": [
    {
     "data": {
      "text/plain": [
       "1    357\n",
       "0    296\n",
       "Name: 15, dtype: int64"
      ]
     },
     "execution_count": 15,
     "metadata": {},
     "output_type": "execute_result"
    }
   ],
   "source": [
    "y.value_counts()"
   ]
  },
  {
   "cell_type": "code",
   "execution_count": 28,
   "metadata": {},
   "outputs": [],
   "source": [
    "# 创建顺序模型\n",
    "# model = tf.keras.Sequential([\n",
    "#     # 第1个隐藏层\n",
    "#     tf.keras.layers.Dense(4, input_shape=(15,), activation=\"relu\"),\n",
    "#     # 第2个隐藏层\n",
    "#     tf.keras.layers.Dense(4, activation=\"relu\"),\n",
    "#     # 输出层 激活函数改用 sigmoid ???\n",
    "#     tf.keras.layers.Dense(1, activation='sigmoid')\n",
    "# ])\n",
    "model = tf.keras.Sequential()\n",
    "model.add(tf.keras.layers.Dense(4, input_shape=(15,), activation=\"relu\"))\n",
    "model.add(tf.keras.layers.Dense(4, activation=\"relu\"))\n",
    "# 输出层 激活函数改用 sigmoid ???\n",
    "model.add(tf.keras.layers.Dense(1, activation='sigmoid'))"
   ]
  },
  {
   "cell_type": "code",
   "execution_count": 29,
   "metadata": {},
   "outputs": [
    {
     "name": "stdout",
     "output_type": "stream",
     "text": [
      "Model: \"sequential_2\"\n",
      "_________________________________________________________________\n",
      "Layer (type)                 Output Shape              Param #   \n",
      "=================================================================\n",
      "dense_6 (Dense)              (None, 4)                 64        \n",
      "_________________________________________________________________\n",
      "dense_7 (Dense)              (None, 4)                 20        \n",
      "_________________________________________________________________\n",
      "dense_8 (Dense)              (None, 1)                 5         \n",
      "=================================================================\n",
      "Total params: 89\n",
      "Trainable params: 89\n",
      "Non-trainable params: 0\n",
      "_________________________________________________________________\n"
     ]
    }
   ],
   "source": [
    "model.summary()"
   ]
  },
  {
   "cell_type": "code",
   "execution_count": 30,
   "metadata": {},
   "outputs": [],
   "source": [
    "model.compile(\n",
    "    optimizer=\"adam\",\n",
    "    # 二元交叉熵\n",
    "    loss=\"binary_crossentropy\",\n",
    "    # 记录训练过程中的相关值，如准确率，损失值\n",
    "    metrics=['acc']\n",
    ")"
   ]
  },
  {
   "cell_type": "code",
   "execution_count": 31,
   "metadata": {},
   "outputs": [
    {
     "name": "stdout",
     "output_type": "stream",
     "text": [
      "WARNING:tensorflow:Falling back from v2 loop because of error: Failed to find data adapter that can handle input: <class 'pandas.core.frame.DataFrame'>, <class 'NoneType'>\n",
      "Train on 653 samples\n",
      "Epoch 1/100\n",
      "653/653 [==============================] - 0s 109us/sample - loss: 0.6800 - acc: 0.5727\n",
      "Epoch 2/100\n",
      "653/653 [==============================] - 0s 31us/sample - loss: 0.6476 - acc: 0.6524\n",
      "Epoch 3/100\n",
      "653/653 [==============================] - 0s 28us/sample - loss: 0.6262 - acc: 0.6508\n",
      "Epoch 4/100\n",
      "653/653 [==============================] - 0s 26us/sample - loss: 0.6197 - acc: 0.6493\n",
      "Epoch 5/100\n",
      "653/653 [==============================] - 0s 27us/sample - loss: 0.6164 - acc: 0.6493\n",
      "Epoch 6/100\n",
      "653/653 [==============================] - 0s 27us/sample - loss: 0.6123 - acc: 0.6554\n",
      "Epoch 7/100\n",
      "653/653 [==============================] - 0s 24us/sample - loss: 0.6105 - acc: 0.6539\n",
      "Epoch 8/100\n",
      "653/653 [==============================] - 0s 24us/sample - loss: 0.6089 - acc: 0.6570\n",
      "Epoch 9/100\n",
      "653/653 [==============================] - 0s 24us/sample - loss: 0.6040 - acc: 0.6631\n",
      "Epoch 10/100\n",
      "653/653 [==============================] - 0s 26us/sample - loss: 0.6020 - acc: 0.6600\n",
      "Epoch 11/100\n",
      "653/653 [==============================] - 0s 26us/sample - loss: 0.6043 - acc: 0.6677\n",
      "Epoch 12/100\n",
      "653/653 [==============================] - 0s 26us/sample - loss: 0.5974 - acc: 0.6799\n",
      "Epoch 13/100\n",
      "653/653 [==============================] - 0s 24us/sample - loss: 0.5952 - acc: 0.6769\n",
      "Epoch 14/100\n",
      "653/653 [==============================] - 0s 26us/sample - loss: 0.5928 - acc: 0.6799\n",
      "Epoch 15/100\n",
      "653/653 [==============================] - 0s 32us/sample - loss: 0.5888 - acc: 0.6845\n",
      "Epoch 16/100\n",
      "653/653 [==============================] - 0s 27us/sample - loss: 0.5878 - acc: 0.6784\n",
      "Epoch 17/100\n",
      "653/653 [==============================] - 0s 26us/sample - loss: 0.5884 - acc: 0.6845\n",
      "Epoch 18/100\n",
      "653/653 [==============================] - 0s 26us/sample - loss: 0.5818 - acc: 0.6876\n",
      "Epoch 19/100\n",
      "653/653 [==============================] - 0s 24us/sample - loss: 0.5798 - acc: 0.6861\n",
      "Epoch 20/100\n",
      "653/653 [==============================] - 0s 24us/sample - loss: 0.5731 - acc: 0.6876\n",
      "Epoch 21/100\n",
      "653/653 [==============================] - 0s 24us/sample - loss: 0.5732 - acc: 0.6907\n",
      "Epoch 22/100\n",
      "653/653 [==============================] - 0s 24us/sample - loss: 0.5714 - acc: 0.6922\n",
      "Epoch 23/100\n",
      "653/653 [==============================] - 0s 24us/sample - loss: 0.5682 - acc: 0.6861\n",
      "Epoch 24/100\n",
      "653/653 [==============================] - 0s 24us/sample - loss: 0.5672 - acc: 0.6907\n",
      "Epoch 25/100\n",
      "653/653 [==============================] - 0s 24us/sample - loss: 0.5619 - acc: 0.6953\n",
      "Epoch 26/100\n",
      "653/653 [==============================] - 0s 24us/sample - loss: 0.5636 - acc: 0.6983\n",
      "Epoch 27/100\n",
      "653/653 [==============================] - 0s 26us/sample - loss: 0.5595 - acc: 0.7029\n",
      "Epoch 28/100\n",
      "653/653 [==============================] - 0s 24us/sample - loss: 0.5565 - acc: 0.7014\n",
      "Epoch 29/100\n",
      "653/653 [==============================] - 0s 32us/sample - loss: 0.5579 - acc: 0.6983\n",
      "Epoch 30/100\n",
      "653/653 [==============================] - 0s 24us/sample - loss: 0.5560 - acc: 0.7106\n",
      "Epoch 31/100\n",
      "653/653 [==============================] - 0s 24us/sample - loss: 0.5534 - acc: 0.7136\n",
      "Epoch 32/100\n",
      "653/653 [==============================] - 0s 29us/sample - loss: 0.5498 - acc: 0.7152\n",
      "Epoch 33/100\n",
      "653/653 [==============================] - 0s 24us/sample - loss: 0.5499 - acc: 0.7044\n",
      "Epoch 34/100\n",
      "653/653 [==============================] - 0s 24us/sample - loss: 0.5481 - acc: 0.7152\n",
      "Epoch 35/100\n",
      "653/653 [==============================] - 0s 24us/sample - loss: 0.5504 - acc: 0.7213\n",
      "Epoch 36/100\n",
      "653/653 [==============================] - 0s 24us/sample - loss: 0.5482 - acc: 0.7152\n",
      "Epoch 37/100\n",
      "653/653 [==============================] - 0s 26us/sample - loss: 0.5443 - acc: 0.7243\n",
      "Epoch 38/100\n",
      "653/653 [==============================] - 0s 24us/sample - loss: 0.5398 - acc: 0.7228\n",
      "Epoch 39/100\n",
      "653/653 [==============================] - 0s 24us/sample - loss: 0.5364 - acc: 0.7213\n",
      "Epoch 40/100\n",
      "653/653 [==============================] - 0s 24us/sample - loss: 0.5367 - acc: 0.7259\n",
      "Epoch 41/100\n",
      "653/653 [==============================] - 0s 26us/sample - loss: 0.5344 - acc: 0.7305\n",
      "Epoch 42/100\n",
      "653/653 [==============================] - 0s 26us/sample - loss: 0.5346 - acc: 0.7305\n",
      "Epoch 43/100\n",
      "653/653 [==============================] - 0s 41us/sample - loss: 0.5375 - acc: 0.7228\n",
      "Epoch 44/100\n",
      "653/653 [==============================] - 0s 27us/sample - loss: 0.5342 - acc: 0.7228\n",
      "Epoch 45/100\n",
      "653/653 [==============================] - 0s 26us/sample - loss: 0.5293 - acc: 0.7427\n",
      "Epoch 46/100\n",
      "653/653 [==============================] - 0s 27us/sample - loss: 0.5276 - acc: 0.7274\n",
      "Epoch 47/100\n",
      "653/653 [==============================] - 0s 26us/sample - loss: 0.5273 - acc: 0.7366\n",
      "Epoch 48/100\n",
      "653/653 [==============================] - 0s 26us/sample - loss: 0.5269 - acc: 0.7397\n",
      "Epoch 49/100\n",
      "653/653 [==============================] - 0s 24us/sample - loss: 0.6186 - acc: 0.7213\n",
      "Epoch 50/100\n",
      "653/653 [==============================] - 0s 26us/sample - loss: 0.5452 - acc: 0.7305\n",
      "Epoch 51/100\n",
      "653/653 [==============================] - 0s 27us/sample - loss: 0.5357 - acc: 0.7259\n",
      "Epoch 52/100\n",
      "653/653 [==============================] - 0s 26us/sample - loss: 0.5350 - acc: 0.7259\n",
      "Epoch 53/100\n",
      "653/653 [==============================] - 0s 26us/sample - loss: 0.5347 - acc: 0.7320\n",
      "Epoch 54/100\n",
      "653/653 [==============================] - 0s 26us/sample - loss: 0.5242 - acc: 0.7427\n",
      "Epoch 55/100\n",
      "653/653 [==============================] - 0s 26us/sample - loss: 0.5188 - acc: 0.7427\n",
      "Epoch 56/100\n",
      "653/653 [==============================] - 0s 35us/sample - loss: 0.5180 - acc: 0.7458\n",
      "Epoch 57/100\n",
      "653/653 [==============================] - 0s 26us/sample - loss: 0.5173 - acc: 0.7427\n",
      "Epoch 58/100\n",
      "653/653 [==============================] - 0s 27us/sample - loss: 0.5115 - acc: 0.7489\n",
      "Epoch 59/100\n",
      "653/653 [==============================] - 0s 27us/sample - loss: 0.5095 - acc: 0.7504\n",
      "Epoch 60/100\n",
      "653/653 [==============================] - 0s 27us/sample - loss: 0.5108 - acc: 0.7473\n",
      "Epoch 61/100\n",
      "653/653 [==============================] - 0s 24us/sample - loss: 0.5094 - acc: 0.7458\n",
      "Epoch 62/100\n",
      "653/653 [==============================] - 0s 26us/sample - loss: 0.5091 - acc: 0.7504\n",
      "Epoch 63/100\n",
      "653/653 [==============================] - 0s 23us/sample - loss: 0.5060 - acc: 0.7519\n",
      "Epoch 64/100\n",
      "653/653 [==============================] - 0s 24us/sample - loss: 0.5044 - acc: 0.7580\n",
      "Epoch 65/100\n",
      "653/653 [==============================] - 0s 24us/sample - loss: 0.5037 - acc: 0.7565\n",
      "Epoch 66/100\n",
      "653/653 [==============================] - 0s 24us/sample - loss: 0.5012 - acc: 0.7565\n",
      "Epoch 67/100\n",
      "653/653 [==============================] - 0s 24us/sample - loss: 0.4995 - acc: 0.7611\n",
      "Epoch 68/100\n",
      "653/653 [==============================] - 0s 24us/sample - loss: 0.5014 - acc: 0.7611\n",
      "Epoch 69/100\n",
      "653/653 [==============================] - 0s 32us/sample - loss: 0.4957 - acc: 0.7596\n",
      "Epoch 70/100\n",
      "653/653 [==============================] - 0s 24us/sample - loss: 0.4954 - acc: 0.7611\n",
      "Epoch 71/100\n",
      "653/653 [==============================] - 0s 26us/sample - loss: 0.4958 - acc: 0.7596\n",
      "Epoch 72/100\n",
      "653/653 [==============================] - 0s 24us/sample - loss: 0.4956 - acc: 0.7596\n",
      "Epoch 73/100\n",
      "653/653 [==============================] - 0s 24us/sample - loss: 0.4973 - acc: 0.7642\n",
      "Epoch 74/100\n",
      "653/653 [==============================] - 0s 24us/sample - loss: 0.4964 - acc: 0.7596\n",
      "Epoch 75/100\n",
      "653/653 [==============================] - 0s 24us/sample - loss: 0.5056 - acc: 0.7565\n",
      "Epoch 76/100\n",
      "653/653 [==============================] - 0s 24us/sample - loss: 0.4979 - acc: 0.7672\n",
      "Epoch 77/100\n",
      "653/653 [==============================] - 0s 24us/sample - loss: 0.4913 - acc: 0.7626\n",
      "Epoch 78/100\n",
      "653/653 [==============================] - 0s 24us/sample - loss: 0.4898 - acc: 0.7611\n",
      "Epoch 79/100\n",
      "653/653 [==============================] - 0s 26us/sample - loss: 0.4877 - acc: 0.7642\n",
      "Epoch 80/100\n",
      "653/653 [==============================] - 0s 25us/sample - loss: 0.4936 - acc: 0.7657\n",
      "Epoch 81/100\n"
     ]
    },
    {
     "name": "stdout",
     "output_type": "stream",
     "text": [
      "653/653 [==============================] - 0s 26us/sample - loss: 0.4908 - acc: 0.7580\n",
      "Epoch 82/100\n",
      "653/653 [==============================] - 0s 24us/sample - loss: 0.4853 - acc: 0.7642\n",
      "Epoch 83/100\n",
      "653/653 [==============================] - 0s 34us/sample - loss: 0.4896 - acc: 0.7580\n",
      "Epoch 84/100\n",
      "653/653 [==============================] - 0s 24us/sample - loss: 0.4888 - acc: 0.7672\n",
      "Epoch 85/100\n",
      "653/653 [==============================] - 0s 26us/sample - loss: 0.4952 - acc: 0.7672\n",
      "Epoch 86/100\n",
      "653/653 [==============================] - 0s 27us/sample - loss: 0.4869 - acc: 0.7672\n",
      "Epoch 87/100\n",
      "653/653 [==============================] - 0s 23us/sample - loss: 0.4817 - acc: 0.7672\n",
      "Epoch 88/100\n",
      "653/653 [==============================] - 0s 23us/sample - loss: 0.4812 - acc: 0.7688\n",
      "Epoch 89/100\n",
      "653/653 [==============================] - 0s 23us/sample - loss: 0.4827 - acc: 0.7703\n",
      "Epoch 90/100\n",
      "653/653 [==============================] - 0s 23us/sample - loss: 0.4782 - acc: 0.7718\n",
      "Epoch 91/100\n",
      "653/653 [==============================] - 0s 24us/sample - loss: 0.4773 - acc: 0.7703\n",
      "Epoch 92/100\n",
      "653/653 [==============================] - 0s 24us/sample - loss: 0.4741 - acc: 0.7764\n",
      "Epoch 93/100\n",
      "653/653 [==============================] - 0s 26us/sample - loss: 0.4765 - acc: 0.7734\n",
      "Epoch 94/100\n",
      "653/653 [==============================] - 0s 26us/sample - loss: 0.4821 - acc: 0.7779\n",
      "Epoch 95/100\n",
      "653/653 [==============================] - 0s 24us/sample - loss: 0.4699 - acc: 0.7810\n",
      "Epoch 96/100\n",
      "653/653 [==============================] - 0s 24us/sample - loss: 0.4707 - acc: 0.7810\n",
      "Epoch 97/100\n",
      "653/653 [==============================] - 0s 34us/sample - loss: 0.4707 - acc: 0.7779\n",
      "Epoch 98/100\n",
      "653/653 [==============================] - 0s 24us/sample - loss: 0.4655 - acc: 0.7810\n",
      "Epoch 99/100\n",
      "653/653 [==============================] - 0s 26us/sample - loss: 0.4662 - acc: 0.7841\n",
      "Epoch 100/100\n",
      "653/653 [==============================] - 0s 26us/sample - loss: 0.4615 - acc: 0.7917\n"
     ]
    }
   ],
   "source": [
    "history = model.fit(x, y, epochs=100)"
   ]
  },
  {
   "cell_type": "code",
   "execution_count": 32,
   "metadata": {},
   "outputs": [
    {
     "data": {
      "text/plain": [
       "dict_keys(['loss', 'acc'])"
      ]
     },
     "execution_count": 32,
     "metadata": {},
     "output_type": "execute_result"
    }
   ],
   "source": [
    "history.history.keys()"
   ]
  },
  {
   "cell_type": "code",
   "execution_count": 33,
   "metadata": {},
   "outputs": [
    {
     "data": {
      "text/plain": [
       "[<matplotlib.lines.Line2D at 0x21e64bbe5c0>]"
      ]
     },
     "execution_count": 33,
     "metadata": {},
     "output_type": "execute_result"
    },
    {
     "data": {
      "image/png": "[encoded data removed]",
      "text/plain": [
       "<Figure size 432x288 with 1 Axes>"
      ]
     },
     "metadata": {
      "needs_background": "light"
     },
     "output_type": "display_data"
    }
   ],
   "source": [
    "plt.plot(history.epoch, history.history.get('loss'))"
   ]
  },
  {
   "cell_type": "code",
   "execution_count": 34,
   "metadata": {},
   "outputs": [
    {
     "data": {
      "text/plain": [
       "[<matplotlib.lines.Line2D at 0x21e64804f28>]"
      ]
     },
     "execution_count": 34,
     "metadata": {},
     "output_type": "execute_result"
    },
    {
     "data": {
      "image/png": "[encoded data removed]",
      "text/plain": [
       "<Figure size 432x288 with 1 Axes>"
      ]
     },
     "metadata": {
      "needs_background": "light"
     },
     "output_type": "display_data"
    }
   ],
   "source": [
    "plt.plot(history.epoch, history.history.get('acc'))"
   ]
  },
  {
   "cell_type": "code",
   "execution_count": null,
   "metadata": {},
   "outputs": [],
   "source": []
  },
  {
   "cell_type": "code",
   "execution_count": null,
   "metadata": {},
   "outputs": [],
   "source": []
  }
 ],
 "metadata": {
  "kernelspec": {
   "display_name": "Python 3",
   "language": "python",
   "name": "python3"
  },
  "language_info": {
   "codemirror_mode": {
    "name": "ipython",
    "version": 3
   },
   "file_extension": ".py",
   "mimetype": "text/x-python",
   "name": "python",
   "nbconvert_exporter": "python",
   "pygments_lexer": "ipython3",
   "version": "3.7.3"
  }
 },
 "nbformat": 4,
 "nbformat_minor": 2
}
